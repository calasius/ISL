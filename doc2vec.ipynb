{
 "cells": [
  {
   "cell_type": "code",
   "execution_count": 9,
   "metadata": {},
   "outputs": [],
   "source": [
    "from gensim.models.doc2vec import Doc2Vec, TaggedDocument\n",
    "from nltk.tokenize import word_tokenize\n",
    "import pandas as pd"
   ]
  },
  {
   "cell_type": "code",
   "execution_count": 23,
   "metadata": {},
   "outputs": [],
   "source": [
    "activities_df = pd.read_csv('/Users/claudio.gauna/repo/topic_analisis/activity_records.csv',index_col=0, encoding='utf-8')"
   ]
  },
  {
   "cell_type": "code",
   "execution_count": 24,
   "metadata": {},
   "outputs": [
    {
     "data": {
      "text/html": [
       "<div>\n",
       "<style scoped>\n",
       "    .dataframe tbody tr th:only-of-type {\n",
       "        vertical-align: middle;\n",
       "    }\n",
       "\n",
       "    .dataframe tbody tr th {\n",
       "        vertical-align: top;\n",
       "    }\n",
       "\n",
       "    .dataframe thead th {\n",
       "        text-align: right;\n",
       "    }\n",
       "</style>\n",
       "<table border=\"1\" class=\"dataframe\">\n",
       "  <thead>\n",
       "    <tr style=\"text-align: right;\">\n",
       "      <th></th>\n",
       "      <th>id</th>\n",
       "      <th>VERSION</th>\n",
       "      <th>category</th>\n",
       "      <th>description_en</th>\n",
       "      <th>description_es</th>\n",
       "      <th>description_pt</th>\n",
       "      <th>destination</th>\n",
       "      <th>duration_type</th>\n",
       "      <th>value</th>\n",
       "      <th>last_modified_en</th>\n",
       "      <th>...</th>\n",
       "      <th>voucher_type</th>\n",
       "      <th>geo_point_latitude</th>\n",
       "      <th>geo_point_longitude</th>\n",
       "      <th>media_thumb_id</th>\n",
       "      <th>provider_thumb_id</th>\n",
       "      <th>seating_information_id</th>\n",
       "      <th>search_time_es</th>\n",
       "      <th>search_time_en</th>\n",
       "      <th>search_time_pt</th>\n",
       "      <th>last_update_images</th>\n",
       "    </tr>\n",
       "  </thead>\n",
       "  <tbody>\n",
       "    <tr>\n",
       "      <th>0</th>\n",
       "      <td>1</td>\n",
       "      <td>374</td>\n",
       "      <td>SHOW_EVENT</td>\n",
       "      <td>Wherever you are, youll breathe tango. Eleganc...</td>\n",
       "      <td>Por donde quiera que sea se respira tango. La ...</td>\n",
       "      <td>Por onde quer que seja, aqui se respira tango....</td>\n",
       "      <td>BUE</td>\n",
       "      <td>HOUR</td>\n",
       "      <td>4</td>\n",
       "      <td>2018-08-06 19:15:38</td>\n",
       "      <td>...</td>\n",
       "      <td>NaN</td>\n",
       "      <td>-34.603267</td>\n",
       "      <td>-58.410066</td>\n",
       "      <td>3883476.0</td>\n",
       "      <td>NaN</td>\n",
       "      <td>1</td>\n",
       "      <td>2018-08-09 18:32:23</td>\n",
       "      <td>2018-08-09 10:52:48</td>\n",
       "      <td>2018-08-08 21:36:32</td>\n",
       "      <td>NaN</td>\n",
       "    </tr>\n",
       "    <tr>\n",
       "      <th>1</th>\n",
       "      <td>2</td>\n",
       "      <td>4</td>\n",
       "      <td>POI</td>\n",
       "      <td>The Classic New York Tour offers you an incred...</td>\n",
       "      <td>Explora la gran ciudad en un en autobús de dos...</td>\n",
       "      <td>O Classic New York Tour oferece um valor incrí...</td>\n",
       "      <td>NYC</td>\n",
       "      <td>HOUR</td>\n",
       "      <td>72</td>\n",
       "      <td>2018-03-14 09:07:49</td>\n",
       "      <td>...</td>\n",
       "      <td>PRINTED</td>\n",
       "      <td>40.735877</td>\n",
       "      <td>-73.993620</td>\n",
       "      <td>1633625.0</td>\n",
       "      <td>1633626.0</td>\n",
       "      <td>2</td>\n",
       "      <td>2018-08-09 17:37:53</td>\n",
       "      <td>2018-08-08 23:02:40</td>\n",
       "      <td>2018-08-09 08:04:30</td>\n",
       "      <td>2018-08-01 08:00:16</td>\n",
       "    </tr>\n",
       "  </tbody>\n",
       "</table>\n",
       "<p>2 rows × 35 columns</p>\n",
       "</div>"
      ],
      "text/plain": [
       "   id  VERSION    category                                     description_en  \\\n",
       "0   1      374  SHOW_EVENT  Wherever you are, youll breathe tango. Eleganc...   \n",
       "1   2        4         POI  The Classic New York Tour offers you an incred...   \n",
       "\n",
       "                                      description_es  \\\n",
       "0  Por donde quiera que sea se respira tango. La ...   \n",
       "1  Explora la gran ciudad en un en autobús de dos...   \n",
       "\n",
       "                                      description_pt destination  \\\n",
       "0  Por onde quer que seja, aqui se respira tango....         BUE   \n",
       "1  O Classic New York Tour oferece um valor incrí...         NYC   \n",
       "\n",
       "  duration_type value     last_modified_en         ...          voucher_type  \\\n",
       "0          HOUR     4  2018-08-06 19:15:38         ...                   NaN   \n",
       "1          HOUR    72  2018-03-14 09:07:49         ...               PRINTED   \n",
       "\n",
       "  geo_point_latitude geo_point_longitude media_thumb_id provider_thumb_id  \\\n",
       "0         -34.603267          -58.410066      3883476.0               NaN   \n",
       "1          40.735877          -73.993620      1633625.0         1633626.0   \n",
       "\n",
       "  seating_information_id       search_time_es       search_time_en  \\\n",
       "0                      1  2018-08-09 18:32:23  2018-08-09 10:52:48   \n",
       "1                      2  2018-08-09 17:37:53  2018-08-08 23:02:40   \n",
       "\n",
       "        search_time_pt   last_update_images  \n",
       "0  2018-08-08 21:36:32                  NaN  \n",
       "1  2018-08-09 08:04:30  2018-08-01 08:00:16  \n",
       "\n",
       "[2 rows x 35 columns]"
      ]
     },
     "execution_count": 24,
     "metadata": {},
     "output_type": "execute_result"
    }
   ],
   "source": [
    "activities_df.iloc[:2]"
   ]
  },
  {
   "cell_type": "code",
   "execution_count": 25,
   "metadata": {},
   "outputs": [
    {
     "data": {
      "text/plain": [
       "'Wherever you are, youll breathe tango. Elegance and splendor share every corner of this dazzling place. This three level building, the upper two forming the VIP sector, will seduce you with refined details and furniture. Esquina Carlos Gardel has a capacity for up to 500 people who, as tango itself, will be reluctant to leave.<br/>The lights will dim and the orchestra will tune up as elusive legs will begin their dance. Esquina Carlos Gardel is a revival of tangos sophistication, luxury, and style of the Golden Decade of Buenos Aires. The show, with its incomparable technical display and an artistic proposal at the international level, weaves the audience into a mystic tango atmosphere. The sensuality underlying all choreographic patterns combine in a vivid tribute to tango. <br/>The orchestra mingles both dancers and voices, thus reaffirming unparalleled interpretative standards well worth of clap standing ovation.'"
      ]
     },
     "execution_count": 25,
     "metadata": {},
     "output_type": "execute_result"
    }
   ],
   "source": [
    "activities_df['description_en'][0]"
   ]
  },
  {
   "cell_type": "code",
   "execution_count": 5,
   "metadata": {},
   "outputs": [],
   "source": [
    "data = [\"I love machine learning. Its awesome.\",\n",
    "        \"I love coding in python\",\n",
    "        \"I love building chatbots\",\n",
    "        \"they chat amagingly well\"]\n",
    "\n",
    "tagged_data = [TaggedDocument(words=word_tokenize(_d.lower()), tags=[str(i)]) for i, _d in enumerate(data)]\n"
   ]
  },
  {
   "cell_type": "code",
   "execution_count": 26,
   "metadata": {},
   "outputs": [],
   "source": [
    "rows = activities_df.shape[0]"
   ]
  },
  {
   "cell_type": "code",
   "execution_count": 34,
   "metadata": {
    "scrolled": true
   },
   "outputs": [],
   "source": [
    "tagged_data = [TaggedDocument(words=word_tokenize(str(activities_df['description_en'][i])), tags=[str(activities_df['id'][i])]) for i in range(0,10000)]"
   ]
  },
  {
   "cell_type": "code",
   "execution_count": 4,
   "metadata": {},
   "outputs": [
    {
     "name": "stdout",
     "output_type": "stream",
     "text": [
      "[nltk_data] Downloading package punkt to\n",
      "[nltk_data]     /Users/claudio.gauna/nltk_data...\n",
      "[nltk_data]   Unzipping tokenizers/punkt.zip.\n"
     ]
    },
    {
     "data": {
      "text/plain": [
       "True"
      ]
     },
     "execution_count": 4,
     "metadata": {},
     "output_type": "execute_result"
    }
   ],
   "source": [
    "import nltk\n",
    "nltk.download('punkt')"
   ]
  },
  {
   "cell_type": "code",
   "execution_count": null,
   "metadata": {},
   "outputs": [
    {
     "name": "stderr",
     "output_type": "stream",
     "text": [
      "/Users/claudio.gauna/anaconda3/lib/python3.6/site-packages/gensim/models/doc2vec.py:366: UserWarning: The parameter `size` is deprecated, will be removed in 4.0.0, use `vector_size` instead.\n",
      "  warnings.warn(\"The parameter `size` is deprecated, will be removed in 4.0.0, use `vector_size` instead.\")\n"
     ]
    },
    {
     "name": "stdout",
     "output_type": "stream",
     "text": [
      "iteration 0\n"
     ]
    },
    {
     "name": "stderr",
     "output_type": "stream",
     "text": [
      "/Users/claudio.gauna/anaconda3/lib/python3.6/site-packages/ipykernel_launcher.py:17: DeprecationWarning: Call to deprecated `iter` (Attribute will be removed in 4.0.0, use self.epochs instead).\n"
     ]
    },
    {
     "name": "stdout",
     "output_type": "stream",
     "text": [
      "iteration 1\n",
      "iteration 2\n",
      "iteration 3\n",
      "iteration 4\n",
      "iteration 5\n",
      "iteration 6\n",
      "iteration 7\n",
      "iteration 8\n",
      "iteration 9\n",
      "iteration 10\n",
      "iteration 11\n",
      "iteration 12\n",
      "iteration 13\n",
      "iteration 14\n",
      "iteration 15\n",
      "iteration 16\n",
      "iteration 17\n",
      "iteration 18\n",
      "iteration 19\n",
      "iteration 20\n",
      "iteration 21\n",
      "iteration 22\n",
      "iteration 23\n",
      "iteration 24\n",
      "iteration 25\n",
      "iteration 26\n",
      "iteration 27\n",
      "iteration 28\n",
      "iteration 29\n",
      "iteration 30\n",
      "iteration 31\n",
      "iteration 32\n",
      "iteration 33\n",
      "iteration 34\n",
      "iteration 35\n",
      "iteration 36\n",
      "iteration 37\n"
     ]
    }
   ],
   "source": [
    "max_epochs = 100\n",
    "vec_size = 20\n",
    "alpha = 0.025\n",
    "\n",
    "model = Doc2Vec(size=vec_size,\n",
    "                alpha=alpha, \n",
    "                min_alpha=0.00025,\n",
    "                min_count=1,\n",
    "                dm =1)\n",
    "  \n",
    "model.build_vocab(tagged_data)\n",
    "\n",
    "for epoch in range(max_epochs):\n",
    "    print('iteration {0}'.format(epoch))\n",
    "    model.train(tagged_data,\n",
    "                total_examples=model.corpus_count,\n",
    "                epochs=model.iter)\n",
    "    # decrease the learning rate\n",
    "    model.alpha -= 0.0002\n",
    "    # fix the learning rate, no decay\n",
    "    model.min_alpha = model.alpha\n",
    "\n",
    "model.save(\"d2v.model\")\n",
    "print(\"Model Saved\")"
   ]
  },
  {
   "cell_type": "code",
   "execution_count": 8,
   "metadata": {},
   "outputs": [
    {
     "name": "stdout",
     "output_type": "stream",
     "text": [
      "V1_infer [ 5.6092734e-03 -1.0176660e-02  1.5475456e-02 -3.7485067e-02\n",
      " -4.6168953e-02  1.2660104e-02 -8.7996974e-05 -7.5850547e-03\n",
      "  2.0760680e-02 -4.8089825e-02 -5.2989479e-02  2.7300345e-03\n",
      "  4.3105811e-02  6.4404801e-02 -1.8558249e-02 -4.5942426e-02\n",
      "  1.3272194e-02 -1.9971164e-02 -1.9009659e-03 -5.6658015e-02]\n",
      "[('2', 0.9935227632522583), ('3', 0.9915739297866821), ('0', 0.9905270338058472)]\n",
      "[-0.15306601 -0.01476377  0.13502887 -0.08695199 -0.3131606   0.2973796\n",
      "  0.2238717  -0.07239051  0.18371302 -0.43708053 -0.3078999   0.06017359\n",
      "  0.5124702   0.36032954 -0.2865823  -0.36013576 -0.02752277 -0.28063083\n",
      "  0.14065145 -0.39105785]\n"
     ]
    }
   ],
   "source": [
    "from gensim.models.doc2vec import Doc2Vec\n",
    "\n",
    "model= Doc2Vec.load(\"d2v.model\")\n",
    "#to find the vector of a document which is not in training data\n",
    "test_data = word_tokenize(\"I love chatbots\".lower())\n",
    "v1 = model.infer_vector(test_data)\n",
    "print(\"V1_infer\", v1)\n",
    "\n",
    "# to find most similar doc using tags\n",
    "similar_doc = model.docvecs.most_similar('1')\n",
    "print(similar_doc)\n",
    "\n",
    "\n",
    "# to find vector of doc in training data using tags or in other words, printing the vector of document at index 1 in training data\n",
    "print(model.docvecs['1'])"
   ]
  },
  {
   "cell_type": "code",
   "execution_count": 15,
   "metadata": {},
   "outputs": [
    {
     "data": {
      "text/plain": [
       "[TaggedDocument(words=['i', 'love', 'machine', 'learning', '.', 'its', 'awesome', '.'], tags=['0']),\n",
       " TaggedDocument(words=['i', 'love', 'coding', 'in', 'python'], tags=['1']),\n",
       " TaggedDocument(words=['i', 'love', 'building', 'chatbots'], tags=['2']),\n",
       " TaggedDocument(words=['they', 'chat', 'amagingly', 'well'], tags=['3'])]"
      ]
     },
     "execution_count": 15,
     "metadata": {},
     "output_type": "execute_result"
    }
   ],
   "source": [
    "tagged_data"
   ]
  },
  {
   "cell_type": "code",
   "execution_count": 16,
   "metadata": {},
   "outputs": [],
   "source": [
    "model.build_vocab?"
   ]
  },
  {
   "cell_type": "code",
   "execution_count": null,
   "metadata": {},
   "outputs": [],
   "source": []
  }
 ],
 "metadata": {
  "kernelspec": {
   "display_name": "Python 3",
   "language": "python",
   "name": "python3"
  },
  "language_info": {
   "codemirror_mode": {
    "name": "ipython",
    "version": 3
   },
   "file_extension": ".py",
   "mimetype": "text/x-python",
   "name": "python",
   "nbconvert_exporter": "python",
   "pygments_lexer": "ipython3",
   "version": "3.6.5"
  }
 },
 "nbformat": 4,
 "nbformat_minor": 2
}
