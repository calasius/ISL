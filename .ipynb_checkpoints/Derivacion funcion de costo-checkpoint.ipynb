{
 "cells": [
  {
   "cell_type": "markdown",
   "metadata": {},
   "source": [
    "## Derivacion de la funcion de costo asumiendo distribucion gausiana sobre el target"
   ]
  },
  {
   "cell_type": "markdown",
   "metadata": {},
   "source": [
    "Tenemos que resolver el siguiente problema:\n",
    "\n",
    "queremos aproximar la siguiente funcion $y(x,\\boldsymbol{w})$\n",
    "\n",
    "$\\boldsymbol{X} = (x_{1},...,x_{N})^{T}$ la matriz de input.\n",
    "\n",
    "$\\boldsymbol{t} = (t_{1},...,t_{N})^{T}$ el vector target.\n",
    "\n",
    "$\\{\\boldsymbol{X}, \\boldsymbol{t}\\}$ es el set de entrenamiento.\n",
    "\n",
    "Podemos expresar la incertidumbre sobre $\\boldsymbol{T}$ usando una distribucion de probabilidad. Asumiremos que la distribucion es gausiana:\n",
    "\n",
    "$p(t \\mid x,\\boldsymbol{w}) = \\mathcal{N}(t \\mid y(t,\\boldsymbol{w}), \\beta^{-1})$  \n",
    "$\\beta^{-1} = \\sigma^2$ es la precision\n",
    "\n",
    "Ahora dado el conjunto de entrenamiento $\\{\\boldsymbol{X},\\boldsymbol{T}\\}$ asumiendo distribucion iid sobre $t$ podemos estimar los parametros $\\boldsymbol{w}$ maximizando la funcion likelihood dada por:\n",
    "\n",
    "\n",
    "$$p(\\boldsymbol{t} \\mid \\boldsymbol{X},\\boldsymbol{w},\\beta) = \\prod_{n=1}^{N} \\mathcal{N}(t_{n} \\mid y(x_{n}, \\boldsymbol{w}),\\beta^{-1})$$\n",
    "\n",
    "Es mas conveniente maximizar el logaritmo de la funcion likelihood:\n",
    "\n",
    "$$ln(p(\\boldsymbol{t} \\mid \\boldsymbol{X}, \\boldsymbol{w}, \\beta)) = \\sum_{n=1}^{N} ln(\\frac{1}{\\sqrt{2\\pi \\beta^{-1}}} exp \\{-\\frac{1}{2\\beta^{-1}}(t_{n}-y(x_{n}, \\boldsymbol{w}))^2\\})$$\n",
    "\n",
    "Aplicando logaritmo queda:\n",
    "\n",
    "$$ln(p(\\boldsymbol{t} \\mid \\boldsymbol{X}, \\boldsymbol{w}, \\beta)) = -\\frac{\\beta}{2} \\sum_{n=1}^{N}\\{y(x_{n},\\boldsymbol{w}) - t_{n}\\}^{2} + \\frac{N}{2} ln(\\beta) - \\frac{N}{2}ln(2\\pi)$$\n",
    "\n",
    "Maximizar la ecuacion anterior con respecto a $\\boldsymbol{w}$ es equivalente a minimizar:\n",
    "\n",
    "$$\\frac{1}{2} \\sum_{n=1}^{N}\\{y(x_{n},\\boldsymbol{w}) - t_{n}\\}^{2}$$\n"
   ]
  },
  {
   "cell_type": "code",
   "execution_count": null,
   "metadata": {},
   "outputs": [],
   "source": []
  }
 ],
 "metadata": {
  "kernelspec": {
   "display_name": "Python 3",
   "language": "python",
   "name": "python3"
  },
  "language_info": {
   "codemirror_mode": {
    "name": "ipython",
    "version": 3
   },
   "file_extension": ".py",
   "mimetype": "text/x-python",
   "name": "python",
   "nbconvert_exporter": "python",
   "pygments_lexer": "ipython3",
   "version": "3.6.5"
  }
 },
 "nbformat": 4,
 "nbformat_minor": 2
}
