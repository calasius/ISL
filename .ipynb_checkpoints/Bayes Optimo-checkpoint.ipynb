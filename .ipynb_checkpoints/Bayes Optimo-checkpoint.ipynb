{
 "cells": [
  {
   "cell_type": "markdown",
   "metadata": {},
   "source": [
    "## Optimalidad del clasificador bayesiano"
   ]
  },
  {
   "cell_type": "markdown",
   "metadata": {},
   "source": [
    "Estas son las regiones definidas por el clasificador bayesiano:\n",
    "\n",
    "$R_{1>2} = \\{x \\mid p(x \\mid C_{1})*p(C_{1}) \\ge p(x \\mid C_{2})*p(C_{2})\\}$\n",
    "\n",
    "$R_{2>1} = \\{x \\mid p(x \\mid C_{2})*p(C_{2}) \\gt p(x \\mid C_{1})*p(C_{1})\\}$\n",
    "\n",
    "\n",
    "Ahora sean otras regiones $S_{1}$ y $S_{2}$ diferentes a las dadas por el clasificador bayesiano que no cumplan las restricciones dadas anteriormente. \n",
    "\n",
    "Como no se cumplen las restricciones de las regiones dadas por bayes, entonces existen:\n",
    "\n",
    "$Q_{1>2} \\text{ tal que } Q_{1>2} \\subset R_{1>2}$ es clasificada como $C_{2}$\n",
    "\n",
    "$P_{2>1} \\text{ tal que } P_{2>1} \\subset R_{2>1}$ es clasificada como $C_{1}$\n",
    "\n",
    "Entonces las nuevas regiones quedan asi:\n",
    "\n",
    "$S_{1} = R_{1>2} - Q_{1>2} + P_{2>1}$\n",
    "\n",
    "$S_{2} = R_{2>1} - P_{2>1} + Q_{1>2}$\n",
    "\n",
    "El error bayesiano es:\n",
    "\n",
    "$\\int_{R_{1>2}} p(x \\mid C_{2})*p(C_{2}) dx  + \\int_{R_{2>1}} p(x \\mid C_{1})*p(C_{1}) dx$\n",
    "\n",
    "y el nuevo error es:\n",
    "\n",
    "$\\int_{R_{1>2} - Q_{1>2} + P_{2>1}} p(x \\mid C_{2})*p(C_{2}) dx  + \\int_{R_{2>1} - P_{2>1} + Q_{1>2}} p(x \\mid C_{1})*p(C_{1}) dx$\n",
    "\n",
    "Si le restamos al nuevo el error bayesiano queda y distribuimos la integral sobre las regiones disjuntas queda:\n",
    "\n",
    "$\\int_{P_{2>1}} p(x \\mid C_{2})*p(C_{2}) - p(x \\mid C_{1})*p(C_{1}) dx + \\int_{Q_{1>2}} p(x \\mid C_{1})*p(C_{1}) -  p(x \\mid C_{2})*p(C_{2}) dx$\n",
    "\n",
    "Por definicion esto es mayor o igual que 0, entonces el clasificador bayesiano es optimo.\n"
   ]
  }
 ],
 "metadata": {
  "kernelspec": {
   "display_name": "Python 3",
   "language": "python",
   "name": "python3"
  },
  "language_info": {
   "codemirror_mode": {
    "name": "ipython",
    "version": 3
   },
   "file_extension": ".py",
   "mimetype": "text/x-python",
   "name": "python",
   "nbconvert_exporter": "python",
   "pygments_lexer": "ipython3",
   "version": "3.6.5"
  }
 },
 "nbformat": 4,
 "nbformat_minor": 2
}
